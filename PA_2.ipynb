{
 "cells": [
  {
   "cell_type": "code",
   "execution_count": null,
   "id": "af9e426f-0953-4558-a6e3-5e4198049dc0",
   "metadata": {},
   "outputs": [],
   "source": [
    "import numpy as np\n",
    "\n",
    "#Create a random array that is 5 x 5\n",
    "X = np.random.rand(5, 5)\n",
    "\n",
    "#Set the values\n",
    "mean = np.mean(X)\n",
    "std = np.std(X)\n",
    "Z = (X - mean) / std\n",
    "\n",
    "#saving\n",
    "Normalized_X = np.save(\"X_normalized.npy\", Z)\n",
    "\n",
    "#printing the output\n",
    "print(\"Your current value: \" + str(X))\n",
    "print(\"Your normalized value: \" + str(Z))"
   ]
  },
  {
   "cell_type": "code",
   "execution_count": null,
   "id": "4339187e-e539-4922-bbc7-3eead27fd9cb",
   "metadata": {},
   "outputs": [],
   "source": [
    "import numpy as np\n",
    "\n",
    "A = np.arange(1, 101) #Create the range of the array from 1 - 100\n",
    "B = A.reshape(10, 10) #Reshape the array to 10 x 10\n",
    "C = np.square(B) #Square all of the elements inside of the array\n",
    "print(C) #print\n",
    "\n",
    "# Using boolean indexing to find the values that are divisible by 3 and stores it\n",
    "divisible_by_3 = C[C % 3 == 0] \n",
    "\n",
    "#saving\n",
    "np.save(\"div_by_3.npy\", divisible_by_3)\n",
    "\n",
    "#Print the values that are divisble by 3\n",
    "print(\"The values that are divisible by 3 are: \" + str(divisible_by_3))"
   ]
  }
 ],
 "metadata": {
  "kernelspec": {
   "display_name": "Python 3 (ipykernel)",
   "language": "python",
   "name": "python3"
  },
  "language_info": {
   "codemirror_mode": {
    "name": "ipython",
    "version": 3
   },
   "file_extension": ".py",
   "mimetype": "text/x-python",
   "name": "python",
   "nbconvert_exporter": "python",
   "pygments_lexer": "ipython3",
   "version": "3.12.4"
  }
 },
 "nbformat": 4,
 "nbformat_minor": 5
}
